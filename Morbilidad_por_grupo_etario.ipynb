{
  "nbformat": 4,
  "nbformat_minor": 0,
  "metadata": {
    "colab": {
      "provenance": []
    },
    "kernelspec": {
      "name": "python3",
      "display_name": "Python 3"
    },
    "language_info": {
      "name": "python"
    }
  },
  "cells": [
    {
      "cell_type": "markdown",
      "source": [
        "El siguiente código ordena las causas de morbilidad de los pacientes atendidos durante el mes en los servicios de consulta externa, emergencia y hospitalización. Posteriormente clasifica por género y por grupo etario."
      ],
      "metadata": {
        "id": "QQaQ9VnL0H33"
      }
    },
    {
      "cell_type": "markdown",
      "source": [
        "# Importación de librerías, carga de archivos y creación de DataFrames"
      ],
      "metadata": {
        "id": "rHqdHVtE2cHZ"
      }
    },
    {
      "cell_type": "code",
      "execution_count": null,
      "metadata": {
        "id": "pHQHmNxsYSaZ"
      },
      "outputs": [],
      "source": [
        "import pandas as pd\n",
        "import numpy as np"
      ]
    },
    {
      "cell_type": "code",
      "source": [
        "# Designación de variables\n",
        "CE = 'CE.xlsx'\n",
        "ER_CE = 'EMERGENCIA.xlsx'\n",
        "#ER_HO = 'EMERGENCIA (HO).xlsx'\n",
        "HO = 'HOSPITALIZACION.xlsx'\n",
        "pestaña = 'BD'"
      ],
      "metadata": {
        "id": "r7vDoYugk10e"
      },
      "execution_count": null,
      "outputs": []
    },
    {
      "cell_type": "code",
      "source": [
        "# Designación de dataframes\n",
        "df_CE = pd.read_excel(CE, sheet_name= pestaña)\n",
        "df_ER_CE = pd.read_excel(ER_CE, sheet_name= pestaña)\n",
        "#df_ER_HO = pd.read_excel(ER_HO, sheet_name= pestaña)é\n",
        "df_HO = pd.read_excel(HO, sheet_name= pestaña)"
      ],
      "metadata": {
        "id": "wddozyZ0lJl2"
      },
      "execution_count": null,
      "outputs": []
    },
    {
      "cell_type": "markdown",
      "source": [
        "# Transformación de los DataFrames"
      ],
      "metadata": {
        "id": "tcCP3ER621d7"
      }
    },
    {
      "cell_type": "code",
      "source": [
        "# Extracción de las columnas necesarias\n",
        "CE = df_CE[['EDAD', 'CEDULA', 'SEXO', 'CIE10', 'DESCRIPCION']]\n",
        "ER_CE = df_ER_CE[['EDAD', 'CEDULA', 'SEXO', 'CIE10', 'DESCRIPCION']]\n",
        "#ER_HO = df_ER_HO[['EDAD', 'CEDULA', 'SEXO', 'CIE10', 'DESCRIPCION']]\n",
        "HO = df_HO[['EDAD', 'CEDULA', 'SEXO', 'CIE10', 'DESCRIPCION']]"
      ],
      "metadata": {
        "id": "92ZsUCp3mQPl"
      },
      "execution_count": null,
      "outputs": []
    },
    {
      "cell_type": "code",
      "source": [
        "# Eliminación de duplicados por coincidencia de número de cédula y código CIE-10\n",
        "CE = CE.drop_duplicates(subset=['CEDULA', 'CIE10'])\n",
        "ER_CE = ER_CE.drop_duplicates(subset=['CEDULA', 'CIE10'])\n",
        "#ER_HO = ER_HO.drop_duplicates(subset=['CEDULA', 'CIE10'])\n",
        "HO = HO.drop_duplicates(subset=['CEDULA', 'CIE10'])"
      ],
      "metadata": {
        "id": "Bm2QMshJoGzv"
      },
      "execution_count": null,
      "outputs": []
    },
    {
      "cell_type": "code",
      "source": [
        "# Eliminación de los registros con código CIE-10 Z y R, el primero corresponde a procedimientos y el segundo a signos clínicos\n",
        "CE = CE[~CE['CIE10'].str.startswith(' Z')]\n",
        "CE = CE[~CE['CIE10'].str.startswith(' R')]\n",
        "ER_CE = ER_CE[~ER_CE['CIE10'].str.startswith(' Z')]\n",
        "#ER_HO = ER_HO[~ER_HO['CIE10'].str.startswith(' Z')]\n",
        "HO = HO[~HO['CIE10'].str.startswith(' Z')]"
      ],
      "metadata": {
        "id": "3HGN4b6qozNl"
      },
      "execution_count": null,
      "outputs": []
    },
    {
      "cell_type": "markdown",
      "source": [
        "# Creación de la tabla de morbilidad por rangos de edad y género"
      ],
      "metadata": {
        "id": "UMtuG4PI5ZzP"
      }
    },
    {
      "cell_type": "code",
      "source": [
        "# Se definen los rangos de edad\n",
        "bins = [0, 1, 5, 10, 15, 20, 50, 65, np.inf]\n",
        "names = ['<1año', '1-4', '5-9', '10-14', '15-19', '20-49', '50-64', '65+']\n",
        "\n",
        "# Se crea una nueva columna que indica el rango de edad\n",
        "CE['RangoEdad'] = pd.cut(CE['EDAD'], bins, labels=names)\n",
        "ER_CE['RangoEdad'] = pd.cut(ER_CE['EDAD'], bins, labels=names)\n",
        "#ER_HO['RangoEdad'] = pd.cut(ER_HO['EDAD'], bins, labels=names)\n",
        "HO['RangoEdad'] = pd.cut(HO['EDAD'], bins, labels=names)\n",
        "\n",
        "# Se agrupan los datos por código CIE10, rango de edad y género\n",
        "df_agrupado_CE = CE.groupby(['CIE10', 'RangoEdad', 'SEXO']).size().reset_index(name='conteo')\n",
        "df_agrupado_ER_CE = ER_CE.groupby(['CIE10', 'RangoEdad', 'SEXO']).size().reset_index(name='conteo')\n",
        "#df_agrupado_ER_HO = ER_HO.groupby(['CIE10', 'RangoEdad', 'SEXO']).size().reset_index(name='conteo')\n",
        "df_agrupado_HO = HO.groupby(['CIE10', 'RangoEdad', 'SEXO']).size().reset_index(name='conteo')\n",
        "\n",
        "# Se crean tablas dinámicas por cada servicio\n",
        "df_pivot_CE = df_agrupado_CE.pivot_table(index=['CIE10'], columns=['RangoEdad', 'SEXO'], values='conteo', fill_value=0)\n",
        "df_pivot_ER_CE = df_agrupado_ER_CE.pivot_table(index=['CIE10'], columns=['RangoEdad', 'SEXO'], values='conteo', fill_value=0)\n",
        "#df_pivot_ER_HO = df_agrupado_ER_HO.pivot_table(index=['CIE10'], columns=['RangoEdad', 'SEXO'], values='conteo', fill_value=0)\n",
        "df_pivot_HO = df_agrupado_HO.pivot_table(index=['CIE10'], columns=['RangoEdad', 'SEXO'], values='conteo', fill_value=0)\n",
        "\n",
        "for name in names:\n",
        "    for sex in ['M', 'F']:\n",
        "        if (name, sex) not in df_pivot_CE.columns:\n",
        "            df_pivot_CE[(name, sex)] = 0\n",
        "\n",
        "for name in names:\n",
        "    for sex in ['M', 'F']:\n",
        "        if (name, sex) not in df_pivot_ER_CE.columns:\n",
        "            df_pivot_ER_CE[(name, sex)] = 0\n",
        "\"\"\"\n",
        "for name in names:\n",
        "    for sex in ['M', 'F']:\n",
        "        if (name, sex) not in df_pivot_ER_HO.columns:\n",
        "            df_pivot_ER_HO[(name, sex)] = 0\n",
        "\"\"\"\n",
        "for name in names:\n",
        "    for sex in ['M', 'F']:\n",
        "        if (name, sex) not in df_pivot_HO.columns:\n",
        "            df_pivot_HO[(name, sex)] = 0\n",
        "\n",
        "# Se ordenan las columnas\n",
        "df_pivot_CE = df_pivot_CE.sort_index(axis=1)\n",
        "df_pivot_ER_CE = df_pivot_ER_CE.sort_index(axis=1)\n",
        "#df_pivot_ER_HO = df_pivot_ER_HO.sort_index(axis=1)\n",
        "df_pivot_HO = df_pivot_HO.sort_index(axis=1)\n",
        "\n",
        "# Se añaden las columnas de total por género y total general\n",
        "df_pivot_CE[('Total', 'M')] = df_pivot_CE.xs('M', level=1, axis=1).sum(axis=1)\n",
        "df_pivot_CE[('Total', 'F')] = df_pivot_CE.xs('F', level=1, axis=1).sum(axis=1)\n",
        "df_pivot_CE[('Total', 'TOTAL')] = df_pivot_CE[('Total', 'M')] + df_pivot_CE[('Total', 'F')]\n",
        "\n",
        "df_pivot_ER_CE[('Total', 'M')] = df_pivot_ER_CE.xs('M', level=1, axis=1).sum(axis=1)\n",
        "df_pivot_ER_CE[('Total', 'F')] = df_pivot_ER_CE.xs('F', level=1, axis=1).sum(axis=1)\n",
        "df_pivot_ER_CE[('Total', 'TOTAL')] = df_pivot_ER_CE[('Total', 'M')] + df_pivot_ER_CE[('Total', 'F')]\n",
        "\"\"\"\n",
        "df_pivot_ER_HO[('Total', 'M')] = df_pivot_ER_HO.xs('M', level=1, axis=1).sum(axis=1)\n",
        "df_pivot_ER_HO[('Total', 'F')] = df_pivot_ER_HO.xs('F', level=1, axis=1).sum(axis=1)\n",
        "df_pivot_ER_HO[('Total', 'TOTAL')] = df_pivot_ER_HO[('Total', 'M')] + df_pivot_ER_HO[('Total', 'F')]\n",
        "\"\"\"\n",
        "df_pivot_HO[('Total', 'M')] = df_pivot_HO.xs('M', level=1, axis=1).sum(axis=1)\n",
        "df_pivot_HO[('Total', 'F')] = df_pivot_HO.xs('F', level=1, axis=1).sum(axis=1)\n",
        "df_pivot_HO[('Total', 'TOTAL')] = df_pivot_HO[('Total', 'M')] + df_pivot_HO[('Total', 'F')]"
      ],
      "metadata": {
        "id": "x0lyOr_fpWgL"
      },
      "execution_count": null,
      "outputs": []
    },
    {
      "cell_type": "code",
      "source": [
        "# Se ordena el DataFrame en orden descendente por 'TOTAL'\n",
        "df_pivot_CE.sort_values(by=('Total', 'TOTAL'), ascending=False, inplace=True)\n",
        "df_pivot_ER_CE.sort_values(by=('Total', 'TOTAL'), ascending=False, inplace=True)\n",
        "#df_pivot_ER_HO.sort_values(by=('Total', 'TOTAL'), ascending=False, inplace=True)\n",
        "df_pivot_HO.sort_values(by=('Total', 'TOTAL'), ascending=False, inplace=True)"
      ],
      "metadata": {
        "id": "Y-fe-wYssf2x"
      },
      "execution_count": null,
      "outputs": []
    },
    {
      "cell_type": "markdown",
      "source": [
        "# Creación del archivo .xlsx para descarga"
      ],
      "metadata": {
        "id": "B5JAvAHz_D9s"
      }
    },
    {
      "cell_type": "code",
      "source": [
        "# Creación del archivo de descarga y la primera pestaña\n",
        "df_pivot_CE.to_excel('MORBILIDAD_20_PRINCIPALES.xlsx', sheet_name='Consulta Externa')"
      ],
      "metadata": {
        "id": "AEc57KaLtiIJ"
      },
      "execution_count": null,
      "outputs": []
    },
    {
      "cell_type": "code",
      "source": [
        "# Creación de las siguientes pestañas del archivo creado\n",
        "with pd.ExcelWriter('MORBILIDAD_20_PRINCIPALES.xlsx', engine='openpyxl', mode='a') as writer:\n",
        "    df_pivot_ER_CE.to_excel(writer, sheet_name= 'Emergencia')\n",
        "#    df_pivot_ER_HO.to_excel(writer, sheet_name= 'ER HO')\n",
        "    df_pivot_HO.to_excel(writer, sheet_name= 'Hospitalización')"
      ],
      "metadata": {
        "id": "zgtt6vf54Cfo"
      },
      "execution_count": null,
      "outputs": []
    }
  ]
}